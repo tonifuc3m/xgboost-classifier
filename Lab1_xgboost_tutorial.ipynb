{
 "cells": [
  {
   "cell_type": "code",
   "execution_count": 1,
   "metadata": {},
   "outputs": [
    {
     "name": "stdout",
     "output_type": "stream",
     "text": [
      "C:\\Users\\toni3\\Documents\\Universidad\\Master\\4\\Smart Society\\Lab 1\n"
     ]
    }
   ],
   "source": [
    "cd \"C:\\Users\\toni3\\Documents\\Universidad\\Master\\4\\Smart Society\\Lab 1\""
   ]
  },
  {
   "cell_type": "code",
   "execution_count": 2,
   "metadata": {},
   "outputs": [],
   "source": [
    "import scipy.io\n",
    "mat = scipy.io.loadmat('HAR_database.mat')"
   ]
  },
  {
   "cell_type": "markdown",
   "metadata": {},
   "source": [
    "## 1. Initial analysis"
   ]
  },
  {
   "cell_type": "markdown",
   "metadata": {},
   "source": [
    "### Size of each continous sequence\n",
    "\n",
    "It may be useful to measure which is the size of each sequence of samples with the same label (for instace for giving some tentative values for the window size). As an example, if the labels are:\n",
    "\n",
    "[3 3 3 3 4 4 4 4 4 2 2 2 3...]\n",
    "\n",
    "For that example, the sizes of the sequences are [4,5,3,...]\n",
    "\n",
    "We will combine the data from the 8 training data persons:"
   ]
  },
  {
   "cell_type": "code",
   "execution_count": 3,
   "metadata": {
    "scrolled": true
   },
   "outputs": [
    {
     "name": "stdout",
     "output_type": "stream",
     "text": [
      "Number of total sequences: 160\n",
      "List of sizes of sequences: [126, 127, 145, 160, 163, 163, 182, 208, 211, 221, 224, 235, 248, 252, 276, 281, 335, 346, 378, 385, 401, 401, 423, 440, 458, 499, 511, 513, 523, 526, 561, 568, 576, 591, 595, 596, 606, 607, 609, 615, 615, 638, 666, 669, 672, 673, 674, 685, 685, 689, 698, 703, 707, 719, 733, 753, 769, 770, 770, 770, 773, 784, 792, 796, 809, 815, 823, 835, 837, 840, 845, 861, 865, 875, 877, 882, 888, 892, 912, 926, 937, 940, 955, 957, 958, 959, 975, 980, 981, 982, 983, 984, 985, 988, 995, 1008, 1016, 1020, 1026, 1034, 1054, 1075, 1076, 1086, 1089, 1095, 1095, 1100, 1100, 1102, 1106, 1108, 1112, 1115, 1118, 1118, 1118, 1122, 1132, 1147, 1160, 1162, 1164, 1165, 1168, 1175, 1176, 1182, 1190, 1201, 1204, 1215, 1217, 1218, 1225, 1236, 1276, 1305, 1305, 1309, 1317, 1324, 1337, 1345, 1365, 1371, 1385, 1390, 1398, 1442, 1447, 1458, 1473, 1473, 1483, 1534, 1551, 1553, 1635, 1723]\n",
      "Average value of size: 882.8625\n",
      "Median value of size: 931.5\n"
     ]
    }
   ],
   "source": [
    "import numpy as np\n",
    "from scipy import stats\n",
    "\n",
    "train = mat['database_training']\n",
    "a = train[:,1][1][0]\n",
    "count = 0\n",
    "len_seq = []\n",
    "\n",
    "for j in range(8):\n",
    "    a = train[:,1][j][0]\n",
    "    len_temp = 0\n",
    "    for i in range(len(a)-1):  \n",
    "        if a[i+1] != a[i] or i == len(a) - 2:\n",
    "            count += 1\n",
    "            len_seq.append(len_temp)\n",
    "            len_temp = 0\n",
    "        else:\n",
    "            len_temp += 1\n",
    "\n",
    "len_seq.sort() # for a better visualization of the minimux and maximum values\n",
    "print(\"Number of total sequences: \" + str(count))\n",
    "print(\"List of sizes of sequences: \" + str(len_seq))\n",
    "print(\"Average value of size: \" + str(np.mean(len_seq)))\n",
    "print(\"Median value of size: \" + str(np.median(len_seq)))"
   ]
  },
  {
   "cell_type": "markdown",
   "metadata": {},
   "source": [
    "As the minimum size of a sequence is 126, it makes sense that the maximum length of the window is 126/2 = 63. Therefore, as the sampling frequency is 16Hz, we can try for instance these values for the length of the window L: 16, 32, 48, 62. (with L = 64 we can risk that a window is incorrectly labeled)."
   ]
  },
  {
   "cell_type": "markdown",
   "metadata": {},
   "source": [
    "### Strategy for the analysis\n",
    "\n",
    "Trying to create a window for each individual sample will require a lot of time for processing the data, training the model and adjusting the hyperparameters. For that reason, the data will based on the windows.\n",
    "\n",
    "Let's first define a transformation as the process of converting 1 vector of data of a signal into 1 value. As there are 5 signals of input data, if we make a number of $t$ transformations for each signal, the total number of inputs for each window will be $5t$. (for instance, for 7 transformation we would have 35 inputs).\n",
    "\n",
    "That means that we will convert all the data from the 8 persons into a number N of instances of dimension 5t. If the total number of samples for a person is $S$ and the length of the window is $L$, the number of instances N will be $S/L$ (for example, if a person has 18000 instances and L=48, there will be 375 instances of that person in the training set).\n",
    "\n",
    "To finally clarify the strategy, let's make an example. Imagine the original dataset is the following (the symbol '|' splits the different windows, which in this case is L = 3 for simplicity):\n",
    "\n",
    "----------------\n",
    "\n",
    "Person 1, 1st signal:  1.2, 1.4, 1,2 | 1.3, 1.5, 1.8 | ........ ( 3000 windows in total for Person 1)\n",
    "\n",
    "Person 1, 2nd signal:  0.3, 0.1, 0.8, | ........\n",
    "\n",
    "Person 1, 3rd signal:  9.2, ... | ... | .......\n",
    "\n",
    "Person 1, 4th signal:  1.2, ... | ... | .......\n",
    "\n",
    "Person 1, 5th signal:  8.1, ... | ... | .......\n",
    "\n",
    "\n",
    "Person 2, 1st signal: 1.1, 1.7, 1.6 | ......     ( 2500 windows in total for Person 2)\n",
    "\n",
    "Person 2, 2nd signal:  ...\n",
    "\n",
    "Person 2, 3rd signal:  ...\n",
    "\n",
    "Person 2, 4th signal:  ...\n",
    "\n",
    "Person 2, 5th signal:  ...\n",
    "\n",
    "Person 3, 1st signal:  ...\n",
    "\n",
    "        ...\n",
    "        \n",
    "----------------\n",
    "\n",
    "Then, if we have for instance **two tranformations** (mean and median), the train set would be (just the **X matrix**):\n",
    "\n",
    "\n",
    "-----------------\n",
    "\n",
    "instance **0**: [ mean_Person1_1stWindow_1stSignal, mean_Person1_1stWindow_2ndSignal, ..., mean_Person1_1stWindow_5thSignal, median_Person1_1stWindow_1stSignal, ..., median_Person1_1stWindow_5thSignal ]\n",
    "\n",
    "instance **1**: [ mean_Person1_2ndWindow_1stSignal, mean_Person1_2ndWindow_2ndSignal, ..., mean_Person1_2ndWindow_5thSignal, median_Person1_2ndWindow_1stSignal, ..., median_Person1_2ndWindow_5thSignal ]\n",
    "\n",
    "...\n",
    "\n",
    "instance **2999**: [ mean_Person1_3000thWindow_1stSignal, mean_Person1_3000thWindow_2ndSignal, ..., mean_Person1_3000thWindow_5thSignal, median_Person1_3000thWindow_1stSignal, ..., median_Person1_3000thWindow_5thSignal ]\n",
    "\n",
    "instance **3000**: [ mean_Person2_1stWindow_1stSignal, mean_Person2_1stWindow_2ndSignal, ..., mean_Person2_1stWindow_5thSignal, median_Person2_1stWindow_1stSignal, ..., median_Person2_1stWindow_5thSignal ]\n",
    "\n",
    "...\n",
    "\n",
    "instance **5449**: [ mean_Person2_2500thWindow_1stSignal, mean_Person2_2500thWindow_2ndSignal, ..., mean_Person2_2500thWindow_5thSignal, median_Person2_2500thWindow_1stSignal, ..., median_Person2_2500thWindow_5thSignal ]\n",
    "\n",
    "instance **5500**: [ mean_Person3_1stWindow_1stSignal, mean_Person3_1stWindow_2ndSignal, ..., mean_Person3_1stWindow_5thSignal, median_Person3_1stWindow_1stSignal, ..., median_Person3_1stWindow_5thSignal ]\n",
    "\n",
    "...\n",
    "...\n",
    "\n",
    "----------------\n",
    "\n",
    "Clearly, for the **Y vector** (output), the label for each instance will be **mode** of all the labels of the window.\n"
   ]
  },
  {
   "cell_type": "markdown",
   "metadata": {},
   "source": [
    "## 2. Preprocessing"
   ]
  },
  {
   "cell_type": "markdown",
   "metadata": {},
   "source": [
    "### 2.1 Segmentation and Feature extraction (only from extract Time-domain features)."
   ]
  },
  {
   "cell_type": "code",
   "execution_count": null,
   "metadata": {},
   "outputs": [],
   "source": [
    "#!pip install librosa\n",
    "#!pip install entropy\n",
    "#import librosa\n",
    "#import entropy"
   ]
  },
  {
   "cell_type": "code",
   "execution_count": 4,
   "metadata": {},
   "outputs": [],
   "source": [
    "train = mat['database_training']\n",
    "test = mat['database_test']\n",
    "\n",
    "# X = train[:,0]\n",
    "# y = train[:,1]\n",
    "\n",
    "n_persons = train[:,0].shape[0]\n",
    "\n",
    "X_train = []\n",
    "y_train = []\n",
    "\n",
    "L = 48 # length of the window (HYPERPARAMETER!!)\n",
    "\n",
    "for person in range(n_persons):\n",
    "    X_person = train[:,0][person]\n",
    "    y_person = train[:,1][person]\n",
    "    S = X_person.shape[1] # number of samples for this person\n",
    "    n_w = int(S/L) # number of windows for this person\n",
    "    for w in range(n_w):\n",
    "        mat_x = X_person[:,w*L:(w+1)*L] # the complete matrix 5xS of each window: 5 rows (each signal) and S samples\n",
    "                                       # mat_w is a numpy ndarray\n",
    "            \n",
    "        vec_y = y_person[0,w*L:(w+1)*L] # the vector of S elements that corresponds to the labels\n",
    "        y_train.append(stats.mode(vec_y)[0][0]) # the label of the window (or instance) is the mode value of the window\n",
    "        \n",
    "        # Time-domain statistics\n",
    "        mean_transf = np.mean(mat_x,axis=1)\n",
    "        #median_transf = np.median(mat_x,axis=1)\n",
    "        std_transf = np.std(mat_x, axis=1)\n",
    "        rms_transf = np.sqrt(np.mean(np.square(mat_x), axis=1))\n",
    "        amp_transf = np.max(mat_x, axis=1) - np.min(mat_x, axis=1)\n",
    "        \n",
    "        derivative_mat_x = np.array(np.gradient(mat_x, axis=1))\n",
    "        n_preaks_transf = np.sum((derivative_mat_x < 0.00001), axis=1)\n",
    "        \n",
    "        # Frequency-domain statistics (TODO)\n",
    "        #fft = np.fft.fft(mat_x)\n",
    "        #sp_centroid = librosa.feature.spectral_centroid(mat_x, sr=16, axis=1)\n",
    "        #sp_entropy = entropy.spectral_entropy(X_person[0, 100:148], sr=16, axis=1)\n",
    "        \n",
    "        # ADD HERE MORE TRANSFORMATION, the output must be a numpy vector of 5 elements\n",
    "        \n",
    "        \n",
    "        final_vector = np.array([mean_transf, std_transf, rms_transf,\n",
    "                                amp_transf, n_preaks_transf]) # final vector with all the values for each window (or instance)\n",
    "        # INSERT THE REST OF TRANSFORMATIONS HERE TO PUT THEM ALL TOGETHER IN A SINGLE VECTOR\n",
    "        final_vector_list = final_vector.flatten().tolist()\n",
    "        X_train.append(final_vector_list)       \n",
    "\n",
    "X_train = np.array(X_train)\n",
    "y_train = np.array(y_train)"
   ]
  },
  {
   "cell_type": "code",
   "execution_count": 5,
   "metadata": {
    "scrolled": true
   },
   "outputs": [
    {
     "name": "stdout",
     "output_type": "stream",
     "text": [
      "(2943, 25)\n",
      "(2943,)\n"
     ]
    }
   ],
   "source": [
    "print(X_train.shape)\n",
    "print(y_train.shape)"
   ]
  },
  {
   "cell_type": "markdown",
   "metadata": {},
   "source": [
    "We now have an X_train and y_train sets (THE DIFFICULT PART IS DONE!!) so we can now make the usual process of Machine Learning"
   ]
  },
  {
   "cell_type": "markdown",
   "metadata": {},
   "source": [
    "###  2.2 Feature Selection\n",
    "\n",
    "Choose the best variables (columns of X_train), as we have $5t$ different features."
   ]
  },
  {
   "cell_type": "code",
   "execution_count": 6,
   "metadata": {},
   "outputs": [
    {
     "name": "stdout",
     "output_type": "stream",
     "text": [
      "    F-score  Mutual-info\n",
      "0      5.96         1.00\n",
      "1      5.26         1.10\n",
      "2      0.00         0.23\n",
      "3      0.00         0.26\n",
      "4      0.00         0.29\n",
      "5      3.09         0.59\n",
      "6      1.18         0.58\n",
      "7      2.91         0.60\n",
      "8      1.86         0.59\n",
      "9      1.15         0.65\n",
      "10     4.24         1.07\n",
      "11     4.19         1.13\n",
      "12     2.63         0.63\n",
      "13     1.67         0.63\n",
      "14     1.02         0.60\n",
      "15     2.53         0.59\n",
      "16     1.24         0.58\n",
      "17     2.28         0.57\n",
      "18     1.28         0.57\n",
      "19     0.90         0.65\n",
      "20     0.05         0.03\n",
      "21     0.04         0.05\n",
      "22     0.00         0.01\n",
      "23     0.00         0.00\n",
      "24     0.03         0.02\n"
     ]
    }
   ],
   "source": [
    "from sklearn.feature_selection import f_classif, mutual_info_classif\n",
    "import pandas as pd\n",
    "np.random.seed(0)\n",
    "\n",
    "f_score = f_classif(X_train, y_train) # The ones with highest F-score are the most related with the output class\n",
    "m_i = mutual_info_classif(X_train,y_train) # highest score are the most relevant features\n",
    "\n",
    "df = pd.DataFrame({'F-score':np.round(f_score[0]/1000, 2), 'Mutual-info':np.round(m_i, 2)})\n",
    "print(df)"
   ]
  },
  {
   "cell_type": "code",
   "execution_count": 7,
   "metadata": {},
   "outputs": [
    {
     "name": "stdout",
     "output_type": "stream",
     "text": [
      "[ True  True False False False  True  True  True  True  True  True  True\n",
      "  True  True  True  True  True  True  True  True  True  True False False\n",
      "  True]\n",
      "[ True  True  True  True  True  True  True  True  True  True  True  True\n",
      "  True  True  True  True  True  True  True  True False False False False\n",
      " False]\n",
      "[ True  True False False False  True  True  True  True  True  True  True\n",
      "  True  True  True  True  True  True  True  True False False False False\n",
      " False]\n",
      "(2943, 17)\n"
     ]
    }
   ],
   "source": [
    "from sklearn.feature_selection import SelectKBest\n",
    "set1 = SelectKBest(f_classif, k = 20)\n",
    "set1.fit(X_train, y_train)\n",
    "mask1 = set1.get_support()\n",
    "print(mask1)\n",
    "\n",
    "set2 = SelectKBest(mutual_info_classif, k = 20)\n",
    "set2.fit(X_train, y_train)\n",
    "mask2 = set2.get_support()\n",
    "print(mask2)\n",
    "\n",
    "mask3 = mask1 & mask2\n",
    "print(mask3)\n",
    "\n",
    "X_first_filter = X_train[:, mask3]\n",
    "print(X_first_filter.shape)"
   ]
  },
  {
   "cell_type": "markdown",
   "metadata": {},
   "source": [
    "## 3. Model training\n",
    "\n",
    "We are going to use XGBoost. XGBoost is a GBM implementation with regularization, which helps reducing overfitting if we are able to fine-tune its hyper-parameters. "
   ]
  },
  {
   "cell_type": "markdown",
   "metadata": {},
   "source": [
    "Its parameters are the following: \n",
    "\n",
    "Parameters: \n",
    "+ objective: loss function to minimize. Usually: binary:logistic, multi:softmax and multi:softprob (returns probabilities instead of the class).\n",
    "+ num_class: number of classes. Need to specify is multi:softmax objective function.\n",
    "+ colsample_bytree: percentage of features used per tree. High value can lead to overfitting. Low value makes it slower to train. Typically use 0.5-1.\n",
    "+ subsample: percentage of samples used per tree. Low value can lead to underfitting. High value makes it slower to train. Typically use 0.5-1.\n",
    "+ learning_rate: step size shrinkage used to prevent overfitting. Range is [0,1]. Typically use 0.01-0.2.\n",
    "+ max_depth: Typically, 3-10.\n",
    "+ n_estimators.\n",
    "+ eval_metric: metric for validation data. Ex: rmse, error (for binary), merror (for multiclass), aux, logloss, mlogloss, etc. https://xgboost.readthedocs.io/en/latest/parameter.html\n",
    "+ seed.\n",
    "\n",
    "Regularization parameters: \n",
    "+ alpha: L1 regularization (lasso) on leaf weights. A large value leads to more regularization.\n",
    "+ beta: L2 regularization (ridge) on leaf weights. A large value leads to more regularization. We usually go for alpha and forget about beta. \n",
    "+ gamma: A node is split only when the resulting split gives a positive reduction in the loss function. Gamma specifies the minimum loss reduction required to make a split. It makes the algorithm conservative."
   ]
  },
  {
   "cell_type": "code",
   "execution_count": 8,
   "metadata": {},
   "outputs": [],
   "source": [
    "import xgboost as xgb"
   ]
  },
  {
   "cell_type": "markdown",
   "metadata": {},
   "source": [
    "XGBoost library has an optimized data structure called Dmatrix and we can use it in the native methods of XGBoost (.cv and .train)."
   ]
  },
  {
   "cell_type": "code",
   "execution_count": 9,
   "metadata": {},
   "outputs": [],
   "source": [
    "y_train = y_train - 1 # Need to include label 0\n",
    "data_dmatrix = xgb.DMatrix(data=X_first_filter, label=y_train)"
   ]
  },
  {
   "cell_type": "markdown",
   "metadata": {},
   "source": [
    "### 3.1 Fit one classifier"
   ]
  },
  {
   "cell_type": "code",
   "execution_count": 10,
   "metadata": {},
   "outputs": [
    {
     "data": {
      "text/plain": [
       "XGBClassifier(alpha=10, base_score=0.5, booster='gbtree', colsample_bylevel=1,\n",
       "       colsample_bytree=0.3, gamma=0, learning_rate=0.1, max_delta_step=0,\n",
       "       max_depth=5, min_child_weight=1, missing=None, n_estimators=10,\n",
       "       n_jobs=1, nthread=None, num_class=5, objective='multi:softprob',\n",
       "       random_state=0, reg_alpha=0, reg_lambda=1, scale_pos_weight=1,\n",
       "       seed=None, silent=True, subsample=1)"
      ]
     },
     "execution_count": 10,
     "metadata": {},
     "output_type": "execute_result"
    }
   ],
   "source": [
    "# Fit one classifier \n",
    "xg_class = xgb.XGBClassifier(objective ='multi:softmax', num_class = 5,colsample_bytree = 0.3, learning_rate = 0.1,\n",
    "                max_depth = 5, alpha = 10, n_estimators = 10)\n",
    "xg_class.fit(X_train,y_train)"
   ]
  },
  {
   "cell_type": "markdown",
   "metadata": {},
   "source": [
    "### 3.2 Training with CV.\n",
    "\n",
    "To get a more accurate performance, we should use CV when fitting the classifier."
   ]
  },
  {
   "cell_type": "code",
   "execution_count": 11,
   "metadata": {},
   "outputs": [],
   "source": [
    "# Training with cross-validation\n",
    "params = {\"objective\":'multi:softmax','num_class':5,'colsample_bytree': 0.3,'learning_rate': 0.1,\n",
    "                'max_depth': 5, 'alpha': 10}\n",
    "\n",
    "cv_results = xgb.cv(dtrain=data_dmatrix, params=params, nfold=3,\n",
    "                    num_boost_round=50,early_stopping_rounds=10,metrics=\"merror\", as_pandas=True, seed=123)\n"
   ]
  },
  {
   "cell_type": "code",
   "execution_count": 12,
   "metadata": {},
   "outputs": [
    {
     "data": {
      "text/html": [
       "<div>\n",
       "<style scoped>\n",
       "    .dataframe tbody tr th:only-of-type {\n",
       "        vertical-align: middle;\n",
       "    }\n",
       "\n",
       "    .dataframe tbody tr th {\n",
       "        vertical-align: top;\n",
       "    }\n",
       "\n",
       "    .dataframe thead th {\n",
       "        text-align: right;\n",
       "    }\n",
       "</style>\n",
       "<table border=\"1\" class=\"dataframe\">\n",
       "  <thead>\n",
       "    <tr style=\"text-align: right;\">\n",
       "      <th></th>\n",
       "      <th>train-merror-mean</th>\n",
       "      <th>train-merror-std</th>\n",
       "      <th>test-merror-mean</th>\n",
       "      <th>test-merror-std</th>\n",
       "    </tr>\n",
       "  </thead>\n",
       "  <tbody>\n",
       "    <tr>\n",
       "      <th>0</th>\n",
       "      <td>0.036188</td>\n",
       "      <td>0.004690</td>\n",
       "      <td>0.046891</td>\n",
       "      <td>0.002497</td>\n",
       "    </tr>\n",
       "    <tr>\n",
       "      <th>1</th>\n",
       "      <td>0.037037</td>\n",
       "      <td>0.006316</td>\n",
       "      <td>0.047231</td>\n",
       "      <td>0.002543</td>\n",
       "    </tr>\n",
       "    <tr>\n",
       "      <th>2</th>\n",
       "      <td>0.032790</td>\n",
       "      <td>0.003011</td>\n",
       "      <td>0.042134</td>\n",
       "      <td>0.004584</td>\n",
       "    </tr>\n",
       "    <tr>\n",
       "      <th>3</th>\n",
       "      <td>0.032790</td>\n",
       "      <td>0.004859</td>\n",
       "      <td>0.043493</td>\n",
       "      <td>0.004584</td>\n",
       "    </tr>\n",
       "    <tr>\n",
       "      <th>4</th>\n",
       "      <td>0.035848</td>\n",
       "      <td>0.007448</td>\n",
       "      <td>0.045532</td>\n",
       "      <td>0.002095</td>\n",
       "    </tr>\n",
       "  </tbody>\n",
       "</table>\n",
       "</div>"
      ],
      "text/plain": [
       "   train-merror-mean  train-merror-std  test-merror-mean  test-merror-std\n",
       "0           0.036188          0.004690          0.046891         0.002497\n",
       "1           0.037037          0.006316          0.047231         0.002543\n",
       "2           0.032790          0.003011          0.042134         0.004584\n",
       "3           0.032790          0.004859          0.043493         0.004584\n",
       "4           0.035848          0.007448          0.045532         0.002095"
      ]
     },
     "execution_count": 12,
     "metadata": {},
     "output_type": "execute_result"
    }
   ],
   "source": [
    "cv_results.head(5)"
   ]
  },
  {
   "cell_type": "markdown",
   "metadata": {},
   "source": [
    "In the cv_results object we have stored the metrics averaged along the CV for the different number of trees. See how as the number of trees increases, the test error decreases."
   ]
  },
  {
   "cell_type": "markdown",
   "metadata": {},
   "source": [
    "### 3.3 Hyper-parameter tuning\n",
    "\n",
    "To actually get the most out of XGBoost, we should optimize its hyper-parameters carefully.\n",
    "\n",
    "The general approach is: \n",
    "\n",
    "1. Choose a relatively **high learning rate**. Generally a learning rate of **0.1 works** but somewhere between 0.05 to 0.3 should work for different problems. **Determine the optimum number of trees for this learning rate** (using XGBoost cv).\n",
    "\n",
    "2. **Tune tree-specific parameters** (max_depth, min_child_weight, gamma, subsample, colsample_bytree) **for decided learning rate and number of trees.** Note that we can choose different parameters to define a tree.\n",
    "\n",
    "3. **Tune regularization parameters** (lambda, alpha) for xgboost which can help reduce model complexity and enhance performance.\n",
    "\n",
    "4. **Lower the learning rate and decide the optimal parameters.**"
   ]
  },
  {
   "cell_type": "markdown",
   "metadata": {},
   "source": [
    "##### 3.3.1 Fix learning rate and find n_estimators.\n",
    "\n",
    "Start with some initial tree-based parameters (will be optimized in the next step). "
   ]
  },
  {
   "cell_type": "code",
   "execution_count": 13,
   "metadata": {},
   "outputs": [],
   "source": [
    "from sklearn import metrics\n",
    "import matplotlib.pyplot as plt\n",
    "def modelfit(alg, X_train, y_train, useTrainCV=True, cv_folds=10, early_stopping_rounds=50):\n",
    "    # FUNCTION TO DETERMINE THE PERFECT NUMBER OF ESTIMATORS AUTOMATICALLY AND GIVE METRICS OF THIS \n",
    "    # X_train: numpy array\n",
    "\t# y_train: numpy array\n",
    "    if useTrainCV:\n",
    "        xgb_param = alg.get_xgb_params()\n",
    "        xgtrain = xgb.DMatrix(data=X_train, label=y_train)\n",
    "        cvresult = xgb.cv(xgb_param, xgtrain, num_boost_round=alg.get_params()['n_estimators'], nfold=cv_folds,\n",
    "                          metrics='merror', early_stopping_rounds=early_stopping_rounds, as_pandas=True)\n",
    "        alg.set_params(n_estimators=cvresult.shape[0])\n",
    "    print(cvresult.tail())\n",
    "    #Fit the algorithm on the data\n",
    "    alg.fit(X_train, y_train,eval_metric='merror')\n",
    "        \n",
    "    #Predict training set:\n",
    "    train_predictions = alg.predict(X_train)\n",
    "    train_predprob = alg.predict_proba(X_train)[:,1]\n",
    "        \n",
    "    #Print model report:\n",
    "    print(\"\\nModel Report\")\n",
    "    print(\"Micro F1 score : %.4g\" % metrics.f1_score(y_train, train_predictions, average='micro'))\n",
    "    print(\"Macro F1 score : %.4g\" % metrics.f1_score(y_train, train_predictions, average='macro'))\n",
    "    print(\"Balanced accuracy : %.4g\" % metrics.balanced_accuracy_score(y_train, train_predictions))\n",
    "    print(\"Optimum number of trees: %s\" % alg.get_xgb_params()['n_estimators'])\n",
    "    \n",
    "    feat_imp = pd.Series(alg.get_booster().get_fscore()).sort_values(ascending=False)\n",
    "    feat_imp.plot(kind='bar', title='Feature Importances')\n",
    "    plt.ylabel('Feature Importance Score')\n",
    "    return alg"
   ]
  },
  {
   "cell_type": "code",
   "execution_count": 14,
   "metadata": {},
   "outputs": [
    {
     "name": "stdout",
     "output_type": "stream",
     "text": [
      "    train-merror-mean  train-merror-std  test-merror-mean  test-merror-std\n",
      "37           0.003398          0.000716          0.018688         0.006672\n",
      "38           0.003360          0.000663          0.019027         0.006831\n",
      "39           0.003285          0.000535          0.019027         0.006831\n",
      "40           0.003134          0.000448          0.019027         0.006831\n",
      "41           0.003134          0.000610          0.018347         0.007320\n",
      "\n",
      "Model Report\n",
      "Micro F1 score : 0.9973\n",
      "Macro F1 score : 0.9969\n",
      "Balanced accuracy : 0.9959\n",
      "Optimum number of trees: 42\n"
     ]
    },
    {
     "data": {
      "image/png": "[encoded data removed]",
      "text/plain": [
       "<Figure size 432x288 with 1 Axes>"
      ]
     },
     "metadata": {
      "needs_background": "light"
     },
     "output_type": "display_data"
    }
   ],
   "source": [
    "xgb1 = xgb.XGBClassifier(\n",
    "    learning_rate =0.1,\n",
    "    n_estimators=1000, # set a high number, but the custom modelfit function will stop at the right place\n",
    "    max_depth=5,\n",
    "    min_child_weight=1,\n",
    "    gamma=0.2,\n",
    "    alpha=0,\n",
    "    subsample=0.8,\n",
    "    colsample_bytree=0.8,\n",
    "    objective='multi:softmax',\n",
    "    num_class=5,\n",
    "    nthread=4,\n",
    "    scale_pos_weight=1,\n",
    "    seed=0)\n",
    "alg = modelfit(xgb1, X_first_filter, y_train)"
   ]
  },
  {
   "cell_type": "markdown",
   "metadata": {},
   "source": [
    "**This problem is extremely easy and with almost default parameters we obtain a .98 accuracy. We will continue tuning the hyperparameters just to learn how to do it**."
   ]
  },
  {
   "cell_type": "markdown",
   "metadata": {},
   "source": [
    "##### 3.3.2. Tune tree-based parameters:\n",
    "\n",
    "Start with the most important: **max_depth**.\n",
    "\n",
    "Then, try **gamma**, **subsambple** and **colsample_bytree**."
   ]
  },
  {
   "cell_type": "code",
   "execution_count": 158,
   "metadata": {},
   "outputs": [
    {
     "name": "stdout",
     "output_type": "stream",
     "text": [
      "{'max_depth': 4} 0.9465227067344395\n"
     ]
    }
   ],
   "source": [
    "from sklearn.model_selection import GridSearchCV, RandomizedSearchCV\n",
    "param_test1 = {\n",
    " 'max_depth':range(3,10)\n",
    "}\n",
    "gsearch1 = GridSearchCV(estimator = xgb.XGBClassifier( learning_rate =0.1, n_estimators=53, max_depth=5,\n",
    "                                                  min_child_weight=1, gamma=0, subsample=0.8, colsample_bytree=0.8,\n",
    "                                                  objective='multi:softmax', nthread=4, scale_pos_weight=1, seed=0),\n",
    "                        param_grid = param_test1, scoring='balanced_accuracy',n_jobs=4,iid=False, cv=5)\n",
    "gsearch1.fit(X_first_filter,y_train)\n",
    "print(gsearch1.best_params_, gsearch1.best_score_)"
   ]
  },
  {
   "cell_type": "markdown",
   "metadata": {},
   "source": [
    "We should probably first tune **gamma** alone and then tune **subsample** and **colsample_bytree** together. But we will do everything together because our training set is small. "
   ]
  },
  {
   "cell_type": "code",
   "execution_count": 143,
   "metadata": {},
   "outputs": [
    {
     "name": "stdout",
     "output_type": "stream",
     "text": [
      "{'colsample_bytree': 0.6, 'gamma': 0.4, 'subsample': 0.9} 0.952364666261267\n"
     ]
    }
   ],
   "source": [
    "param_test2 = {\n",
    "    'gamma': [i/10.0 for i in range(0,5)],\n",
    "    'subsample':[i/10.0 for i in range(6,10)],\n",
    "    'colsample_bytree':[i/10.0 for i in range(6,10)]\n",
    "}\n",
    "gsearch2 = GridSearchCV(estimator = xgb.XGBClassifier(learning_rate =0.1, n_estimators=53, max_depth=4,\n",
    "                                                  min_child_weight=1, gamma=0, subsample=0.8, colsample_bytree=0.8,\n",
    "                                                  objective= 'multi:softmax', nthread=4, scale_pos_weight=1,seed=0),\n",
    "                        param_grid = param_test2, scoring='balanced_accuracy',n_jobs=4,iid=False, cv=5)\n",
    "gsearch2.fit(X_first_filter,y_train)\n",
    "print(gsearch2.best_params_, gsearch2.best_score_)"
   ]
  },
  {
   "cell_type": "markdown",
   "metadata": {},
   "source": [
    "We previously iterated in increments of 0.1 around the values. Now, centered in the new values (0.6, 0.4 and 0.9), let's iterate in increments of 0.05 to see if we can improve the performance."
   ]
  },
  {
   "cell_type": "code",
   "execution_count": 147,
   "metadata": {},
   "outputs": [
    {
     "name": "stdout",
     "output_type": "stream",
     "text": [
      "{'colsample_bytree': 0.55, 'gamma': 0.35, 'subsample': 0.8} 0.9527801828946328\n"
     ]
    }
   ],
   "source": [
    "param_test3 = {\n",
    "    'gamma': [i/100.0 for i in range(30,50,5)],\n",
    "    'subsample':[i/100.0 for i in range(80,105,5)],\n",
    "    'colsample_bytree':[i/100.0 for i in range(50,70,5)]\n",
    "}\n",
    "gsearch3 = GridSearchCV(estimator = xgb.XGBClassifier(learning_rate =0.1, n_estimators=53, max_depth=4,\n",
    "                                                  min_child_weight=1, gamma=0.4, subsample=0.9, colsample_bytree=0.6,\n",
    "                                                  objective= 'multi:softmax', nthread=4, scale_pos_weight=1,seed=0),\n",
    "                        param_grid = param_test3, scoring='balanced_accuracy',n_jobs=4,iid=False, cv=5)\n",
    "gsearch3.fit(X_first_filter,y_train)\n",
    "print(gsearch3.best_params_, gsearch3.best_score_)"
   ]
  },
  {
   "cell_type": "markdown",
   "metadata": {},
   "source": [
    "We check all the tuned parameters: "
   ]
  },
  {
   "cell_type": "code",
   "execution_count": 15,
   "metadata": {},
   "outputs": [
    {
     "name": "stdout",
     "output_type": "stream",
     "text": [
      "     train-merror-mean  train-merror-std  test-merror-mean  test-merror-std\n",
      "133           0.000378      5.421011e-20          0.018006         0.005892\n",
      "134           0.000378      5.421011e-20          0.018006         0.005892\n",
      "135           0.000378      5.421011e-20          0.018006         0.005892\n",
      "136           0.000378      5.421011e-20          0.018006         0.005892\n",
      "137           0.000378      5.421011e-20          0.017667         0.005845\n",
      "\n",
      "Model Report\n",
      "Micro F1 score : 0.9997\n",
      "Macro F1 score : 0.9997\n",
      "Balanced accuracy : 0.9997\n",
      "Optimum number of trees: 138\n"
     ]
    },
    {
     "data": {
      "image/png": "[encoded data removed]",
      "text/plain": [
       "<Figure size 432x288 with 1 Axes>"
      ]
     },
     "metadata": {
      "needs_background": "light"
     },
     "output_type": "display_data"
    }
   ],
   "source": [
    "xgb2 = xgb.XGBClassifier(\n",
    "    learning_rate=0.1,\n",
    "    n_estimators=1000, # set a high number, but the custom modelfit function will stop at the right place\n",
    "    max_depth=4,\n",
    "    min_child_weight=1,\n",
    "    gamma=0.35,\n",
    "    alpha=0,\n",
    "    subsample=0.8,\n",
    "    colsample_bytree=0.55,\n",
    "    objective='multi:softmax',\n",
    "    num_class=5,\n",
    "    nthread=4,\n",
    "    scale_pos_weight=1,\n",
    "    seed=0)\n",
    "alg2 = modelfit(xgb2, X_first_filter, y_train)"
   ]
  },
  {
   "cell_type": "markdown",
   "metadata": {},
   "source": [
    "##### 3.3.3. Tune regularization.\n",
    "\n",
    "We have already tuned **gamma**, but we can also try with **alpha**."
   ]
  },
  {
   "cell_type": "code",
   "execution_count": 161,
   "metadata": {},
   "outputs": [
    {
     "name": "stdout",
     "output_type": "stream",
     "text": [
      "{'alpha': 1e-05} 0.9517360956751517\n"
     ]
    }
   ],
   "source": [
    "param_test4 = {\n",
    "    'alpha':[1e-5, 1e-2, 0.1, 1, 100]\n",
    "}\n",
    "gsearch4 = GridSearchCV(estimator = xgb.XGBClassifier(learning_rate=0.1, n_estimators=67, max_depth=4,\n",
    "                                                  min_child_weight=1, gamma=0.35, subsample=0.8, colsample_bytree=0.55,\n",
    "                                                  objective= 'multi:softmax', nthread=4, scale_pos_weight=1,seed=0),\n",
    "                        param_grid = param_test4, scoring='balanced_accuracy',n_jobs=4,iid=False, cv=5)\n",
    "gsearch4.fit(X_first_filter,y_train)\n",
    "print(gsearch4.best_params_, gsearch4.best_score_)"
   ]
  },
  {
   "cell_type": "markdown",
   "metadata": {},
   "source": [
    "Test this new classifier."
   ]
  },
  {
   "cell_type": "code",
   "execution_count": 16,
   "metadata": {},
   "outputs": [
    {
     "name": "stdout",
     "output_type": "stream",
     "text": [
      "     train-merror-mean  train-merror-std  test-merror-mean  test-merror-std\n",
      "133           0.000378      5.421011e-20          0.018006         0.005892\n",
      "134           0.000378      5.421011e-20          0.018006         0.005892\n",
      "135           0.000378      5.421011e-20          0.018006         0.005892\n",
      "136           0.000378      5.421011e-20          0.018006         0.005892\n",
      "137           0.000378      5.421011e-20          0.017667         0.005845\n",
      "\n",
      "Model Report\n",
      "Micro F1 score : 0.9997\n",
      "Macro F1 score : 0.9997\n",
      "Balanced accuracy : 0.9997\n",
      "Optimum number of trees: 138\n"
     ]
    },
    {
     "data": {
      "image/png": "[encoded data removed]",
      "text/plain": [
       "<Figure size 432x288 with 1 Axes>"
      ]
     },
     "metadata": {
      "needs_background": "light"
     },
     "output_type": "display_data"
    }
   ],
   "source": [
    "xgb3 = xgb.XGBClassifier(\n",
    "    learning_rate=0.1,\n",
    "    n_estimators=1000, # set a high number, but the custom modelfit function will stop at the right place\n",
    "    max_depth=4,\n",
    "    min_child_weight=1,\n",
    "    gamma=0.35,\n",
    "    alpha=1e-05,\n",
    "    subsample=0.8,\n",
    "    colsample_bytree=0.55,\n",
    "    objective='multi:softmax',\n",
    "    num_class=5,\n",
    "    nthread=4,\n",
    "    scale_pos_weight=1,\n",
    "    seed=0)\n",
    "alg3 = modelfit(xgb3, X_first_filter, y_train)"
   ]
  },
  {
   "cell_type": "markdown",
   "metadata": {},
   "source": [
    "##### 3.3.4 Decrease **learning rate** and increase **n_estimators**."
   ]
  },
  {
   "cell_type": "markdown",
   "metadata": {},
   "source": [
    "Lastly, we should lower the learning rate and add more trees."
   ]
  },
  {
   "cell_type": "code",
   "execution_count": 17,
   "metadata": {},
   "outputs": [
    {
     "name": "stdout",
     "output_type": "stream",
     "text": [
      "     train-merror-mean  train-merror-std  test-merror-mean  test-merror-std\n",
      "251           0.008684          0.000861          0.020726         0.004910\n",
      "252           0.008608          0.000874          0.020726         0.004910\n",
      "253           0.008533          0.000864          0.020726         0.004910\n",
      "254           0.008495          0.000796          0.020726         0.004910\n",
      "255           0.008495          0.000796          0.020387         0.004562\n",
      "\n",
      "Model Report\n",
      "Micro F1 score : 0.9922\n",
      "Macro F1 score : 0.9899\n",
      "Balanced accuracy : 0.9884\n",
      "Optimum number of trees: 256\n"
     ]
    },
    {
     "data": {
      "image/png": "[encoded data removed]",
      "text/plain": [
       "<Figure size 432x288 with 1 Axes>"
      ]
     },
     "metadata": {
      "needs_background": "light"
     },
     "output_type": "display_data"
    }
   ],
   "source": [
    "xgb4 = xgb.XGBClassifier(\n",
    "    learning_rate=0.01,\n",
    "    n_estimators=1000, # set a high number, but the custom modelfit function will stop at the right place\n",
    "    max_depth=4,\n",
    "    min_child_weight=1,\n",
    "    gamma=0.35,\n",
    "    alpha=1e-05,\n",
    "    subsample=0.8,\n",
    "    colsample_bytree=0.55,\n",
    "    objective='multi:softmax',\n",
    "    num_class=5,\n",
    "    nthread=4,\n",
    "    scale_pos_weight=1,\n",
    "    seed=0)\n",
    "alg4 = modelfit(xgb4, X_first_filter, y_train)"
   ]
  },
  {
   "cell_type": "markdown",
   "metadata": {},
   "source": [
    "## 4. Predict the test set\n",
    "\n",
    "Once we have the best model, we predict the test set."
   ]
  },
  {
   "cell_type": "markdown",
   "metadata": {},
   "source": [
    "### 4.1 Transform test set"
   ]
  },
  {
   "cell_type": "code",
   "execution_count": 203,
   "metadata": {},
   "outputs": [],
   "source": [
    "# First transform the X as before (MODIFY THE CODE)\n",
    "X_test = []\n",
    "data_end = []\n",
    "n_persons = test[:,0].shape[0]\n",
    "for person in range(n_persons):\n",
    "    X_person = test[:,0][person]\n",
    "    S = X_person.shape[1] # number of samples for this person\n",
    "    n_w = int(S/L) # number of windows for this person\n",
    "    X_person_test = []\n",
    "    for w in range(n_w):\n",
    "        mat_x = X_person[:,w*L:(w+1)*L] # the complete matrix 5xS of each window: 5 rows (each signal) and S samples\n",
    "                                           # mat_w is a numpy ndarray\n",
    "          \n",
    "        # Time-domain statistics\n",
    "        mean_transf = np.mean(mat_x,axis=1)\n",
    "        #median_transf = np.median(mat_x,axis=1)\n",
    "        std_transf = np.std(mat_x, axis=1)\n",
    "        rms_transf = np.sqrt(np.mean(np.square(mat_x), axis=1))\n",
    "        amp_transf = np.max(mat_x, axis=1) - np.min(mat_x, axis=1)\n",
    "        \n",
    "        derivative_mat_x = np.array(np.gradient(mat_x, axis=1))\n",
    "        n_preaks_transf = np.sum((derivative_mat_x < 0.00001), axis=1)\n",
    "        \n",
    "        # Frequency-domain statistics (TODO)\n",
    "        #fft = np.fft.fft(mat_x)\n",
    "        #sp_centroid = librosa.feature.spectral_centroid(mat_x, sr=16, axis=1)\n",
    "        #sp_entropy = entropy.spectral_entropy(X_person[0, 100:148], sr=16, axis=1)\n",
    "        \n",
    "        # ADD HERE MORE TRANSFORMATION, the output must be a numpy vector of 5 elements\n",
    "        \n",
    "        \n",
    "        final_vector = np.array([mean_transf, std_transf, rms_transf,\n",
    "                                amp_transf, n_preaks_transf]) # final vector with all the values for each window (or instance)\n",
    "        # INSERT THE REST OF TRANSFORMATIONS HERE TO PUT THEM ALL TOGETHER IN A SINGLE VECTOR\n",
    "        final_vector_list = final_vector.flatten().tolist()\n",
    "        X_person_test.append(final_vector_list) \n",
    "        \n",
    "    data_end.append(S - L*n_w)\n",
    "    X_test.append(np.array(X_person_test))"
   ]
  },
  {
   "cell_type": "markdown",
   "metadata": {},
   "source": [
    "### 4.2 Make predictions\n",
    "\n",
    "Note that, since we are windowing the signals, there are always some points at the end ignored. We decided to just repeat the last prediction for these last points."
   ]
  },
  {
   "cell_type": "code",
   "execution_count": 217,
   "metadata": {},
   "outputs": [],
   "source": [
    "n_persons = test[:,0].shape[0]\n",
    "pred = []\n",
    "for person in range(n_persons):\n",
    "    pred_aux = alg4.predict(X_test[person][:, mask3])\n",
    "    pred_aux = np.repeat(pred_aux, L)\n",
    "    pred.append(np.concatenate((pred_aux, np.repeat(pred_aux[-1], data_end[person]))))"
   ]
  },
  {
   "cell_type": "code",
   "execution_count": 220,
   "metadata": {},
   "outputs": [],
   "source": [
    "scipy.io.savemat('test.mat', dict(x=pred[0], y=pred[1]))"
   ]
  }
 ],
 "metadata": {
  "anaconda-cloud": {},
  "kernelspec": {
   "display_name": "Python 3",
   "language": "python",
   "name": "python3"
  },
  "language_info": {
   "codemirror_mode": {
    "name": "ipython",
    "version": 3
   },
   "file_extension": ".py",
   "mimetype": "text/x-python",
   "name": "python",
   "nbconvert_exporter": "python",
   "pygments_lexer": "ipython3",
   "version": "3.6.8"
  }
 },
 "nbformat": 4,
 "nbformat_minor": 1
}
